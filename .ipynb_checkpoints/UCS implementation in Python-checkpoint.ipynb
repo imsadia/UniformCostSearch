{
 "cells": [
  {
   "cell_type": "code",
   "execution_count": 7,
   "metadata": {},
   "outputs": [],
   "source": [
    "from collections import defaultdict\n",
    "from queue import PriorityQueue"
   ]
  },
  {
   "cell_type": "code",
   "execution_count": 8,
   "metadata": {},
   "outputs": [],
   "source": [
    "class Graph:\n",
    "    def __init__(self, directed): \n",
    "        \"\"\"Parametrized constructor of class Graph \n",
    "        which takes True if Graph is directed otherwise it takes False\"\"\"\n",
    "        self.graph =  defaultdict(list)\n",
    "        self.directed = directed\n",
    "\n",
    "    def add_edge(self, u, v, weight):\n",
    "        \"\"\"Add Edges between two nodes along \n",
    "        with weight as Algorithm is of UCS\"\"\"\n",
    "        if self.directed:\n",
    "            value = (weight, v)\n",
    "            self.graph[u].append(value)\n",
    "        else:\n",
    "            value = (weight, v)\n",
    "            self.graph[u].append(value)\n",
    "            value = (weight, u)\n",
    "            self.graph[v].append(value)\n",
    "\n",
    "    def ucs(self, current_node, goal_node):\n",
    "        \"\"\"It takes starting node and \n",
    "        goal node as parameters then it returns \n",
    "        a path using Uniform Cost Search Algorithm\"\"\"\n",
    "        visited = []  \n",
    "        queue = PriorityQueue()\n",
    "        queue.put((0, current_node))\n",
    "        \n",
    "        while not queue.empty():\n",
    "            item = queue.get()\n",
    "            current_node =  item[1]\n",
    "            \n",
    "            if current_node == goal_node:\n",
    "                print(current_node, end = \" \")\n",
    "                queue.queue.clear()\n",
    "            else:\n",
    "                if current_node in visited:\n",
    "                    continue\n",
    "                    \n",
    "                print(current_node, end = \" \")\n",
    "                visited.append(current_node)\n",
    "\n",
    "                for neighbour in self.graph[current_node]:\n",
    "                        queue.put((neighbour[0], neighbour[1]))"
   ]
  },
  {
   "cell_type": "code",
   "execution_count": 9,
   "metadata": {},
   "outputs": [],
   "source": [
    "g = Graph(False)"
   ]
  },
  {
   "cell_type": "code",
   "execution_count": 10,
   "metadata": {},
   "outputs": [],
   "source": [
    "g.graph =  defaultdict(list)\n",
    "g.add_edge('S', 'A', 1)\n",
    "g.add_edge('S', 'G', 12)\n",
    "g.add_edge('A', 'B', 3)\n",
    "g.add_edge('A', 'C', 1)\n",
    "g.add_edge('C', 'D', 1)\n",
    "g.add_edge('B', 'D', 3)\n",
    "g.add_edge('C', 'G', 2)\n",
    "g.add_edge('D', 'G', 3)"
   ]
  },
  {
   "cell_type": "code",
   "execution_count": 11,
   "metadata": {},
   "outputs": [
    {
     "data": {
      "text/plain": [
       "defaultdict(list,\n",
       "            {'S': [(1, 'A'), (12, 'G')],\n",
       "             'A': [(1, 'S'), (3, 'B'), (1, 'C')],\n",
       "             'G': [(12, 'S'), (2, 'C'), (3, 'D')],\n",
       "             'B': [(3, 'A'), (3, 'D')],\n",
       "             'C': [(1, 'A'), (1, 'D'), (2, 'G')],\n",
       "             'D': [(1, 'C'), (3, 'B'), (3, 'G')]})"
      ]
     },
     "execution_count": 11,
     "metadata": {},
     "output_type": "execute_result"
    }
   ],
   "source": [
    "g.graph"
   ]
  },
  {
   "cell_type": "code",
   "execution_count": 12,
   "metadata": {},
   "outputs": [
    {
     "name": "stdout",
     "output_type": "stream",
     "text": [
      "S A C D G "
     ]
    }
   ],
   "source": [
    "g.ucs('S', 'G')"
   ]
  },
  {
   "cell_type": "code",
   "execution_count": null,
   "metadata": {},
   "outputs": [],
   "source": []
  }
 ],
 "metadata": {
  "kernelspec": {
   "display_name": "Python 3",
   "language": "python",
   "name": "python3"
  },
  "language_info": {
   "codemirror_mode": {
    "name": "ipython",
    "version": 3
   },
   "file_extension": ".py",
   "mimetype": "text/x-python",
   "name": "python",
   "nbconvert_exporter": "python",
   "pygments_lexer": "ipython3",
   "version": "3.8.5"
  }
 },
 "nbformat": 4,
 "nbformat_minor": 4
}
